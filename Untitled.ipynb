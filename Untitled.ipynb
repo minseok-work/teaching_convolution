{
 "cells": [
  {
   "cell_type": "code",
   "execution_count": 4,
   "metadata": {},
   "outputs": [
    {
     "data": {
      "application/vnd.jupyter.widget-view+json": {
       "model_id": "b22138b6f59e4bfab30fc1785af4ebff",
       "version_major": 2,
       "version_minor": 0
      },
      "text/plain": [
       "interactive(children=(FloatSlider(value=100.0, description='$T_m$', max=200.0, min=20.0, step=20.0), FloatSlid…"
      ]
     },
     "metadata": {},
     "output_type": "display_data"
    },
    {
     "data": {
      "text/plain": [
       "<function __main__.plot_func(mTT, twl, a, rand)>"
      ]
     },
     "execution_count": 4,
     "metadata": {},
     "output_type": "execute_result"
    }
   ],
   "source": [
    "%matplotlib inline\n",
    "from ipywidgets import interact, interactive, fixed, interact_manual, widgets\n",
    "import matplotlib.pyplot as plt\n",
    "import numpy as np\n",
    "\n",
    "t = np.linspace(0,365*5-1,365*5)\n",
    "\n",
    "rand = 0.0 #Init\n",
    "random_component = np.random.randn(len(t)) * rand\n",
    "\n",
    "rand_prev = rand\n",
    "\n",
    "def plot_func(mTT,twl,a, rand):\n",
    "    %matplotlib inline\n",
    "\n",
    "    global rand_prev, random_component\n",
    "    if rand_prev != rand:\n",
    "        random_component = np.random.randn(len(t)) * rand\n",
    "        rand_prev = rand\n",
    "        \n",
    "    CJ = np.sin(t/twl*2*np.pi) + random_component + a \n",
    "    cTTD = 1.- np.exp(-np.append(0,t+0.5)/mTT)    \n",
    "    TTD_disc = np.diff(cTTD)    \n",
    "    remove_spinup = next(x[0] for x in enumerate(cTTD) if x[1] > 0.9995)\n",
    "\n",
    "    CQ = np.convolve(TTD_disc,CJ)[remove_spinup:len(t)]\n",
    "    CQ_analytic = (a*(4*np.power(mTT,2)*np.power(np.pi,2) + np.power(twl,2)) - 2. * mTT * np.pi * twl * np.cos(2*np.pi*t/twl) + np.power(twl,2) * np.sin(2*np.pi*t/twl)) / (4*np.power(mTT,2)*np.power(np.pi,2) + np.power(twl,2))\n",
    "\n",
    "    figM = plt.figure(1)\n",
    "    ax = figM.add_subplot(211)\n",
    "#    ax.plot(t[remove_spinup:],CJ[remove_spinup:len(t)], alpha = 0.5)\n",
    "    ax.plot(t,CJ, alpha = 0.5, label = r'$C_J$')\n",
    "    ax.plot(t[remove_spinup:],CQ, label = r'$C_Q$')\n",
    "    ax.plot(t[remove_spinup:],CQ_analytic[remove_spinup:], ls = 'dashed', label = r'$C_Q$ (analytical)')\n",
    "    ax.set_ylabel('Conc.')\n",
    "    ax.legend()\n",
    "    ax = figM.add_subplot(212)\n",
    "    TTD = 1/mTT * np.exp(-(t)/mTT)\n",
    "    ax.plot(t,TTD)\n",
    "    ax.set_xlabel('Time [days]')\n",
    "    ax.set_ylabel('TTD [1/day]')\n",
    "    \n",
    "interact(plot_func, mTT = widgets.FloatSlider(value=100.,\n",
    "                                               min=20,\n",
    "                                               max=200.0,\n",
    "                                               step=20,description = r'$T_m$'), \n",
    "         twl  = widgets.FloatSlider(value = 365.,min= 60,max=365*5,step = 120, description = r'$T_{wl}$'), \n",
    "         a    = widgets.FloatSlider(value = 10., min= 0,max=50,step = 10, description = r'$a$'),  \n",
    "         rand = widgets.FloatSlider(value = 0., min= 0,max=10,step = 1, description = r'$\\sigma$'))"
   ]
  },
  {
   "cell_type": "code",
   "execution_count": null,
   "metadata": {},
   "outputs": [],
   "source": []
  }
 ],
 "metadata": {
  "kernelspec": {
   "display_name": "Python 3",
   "language": "python",
   "name": "python3"
  },
  "language_info": {
   "codemirror_mode": {
    "name": "ipython",
    "version": 3
   },
   "file_extension": ".py",
   "mimetype": "text/x-python",
   "name": "python",
   "nbconvert_exporter": "python",
   "pygments_lexer": "ipython3",
   "version": "3.7.6"
  }
 },
 "nbformat": 4,
 "nbformat_minor": 4
}
